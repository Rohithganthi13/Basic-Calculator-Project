{
 "cells": [
  {
   "cell_type": "code",
   "execution_count": 1,
   "id": "0e9033ce-8019-44e1-83a8-d6f96f94d5ce",
   "metadata": {},
   "outputs": [
    {
     "name": "stdin",
     "output_type": "stream",
     "text": [
      "Enter first number:  3\n",
      "Enter second number:  5\n"
     ]
    },
    {
     "name": "stdout",
     "output_type": "stream",
     "text": [
      "1.Addition\n",
      "2.Subtraction\n",
      "3.Multiplication\n",
      "4.Division\n",
      "5.Exponential\n"
     ]
    },
    {
     "name": "stdin",
     "output_type": "stream",
     "text": [
      "Enter your choice(1-5): 2\n"
     ]
    },
    {
     "name": "stdout",
     "output_type": "stream",
     "text": [
      "Subtraction of two numbers is : -2.0\n"
     ]
    }
   ],
   "source": [
    "a=float(input(\"Enter first number: \"))\n",
    "b=float(input(\"Enter second number: \"))\n",
    "print(\"1.Addition\")\n",
    "print(\"2.Subtraction\")\n",
    "print(\"3.Multiplication\")\n",
    "print(\"4.Division\")\n",
    "print(\"5.Exponential\")\n",
    "choice=float(input(\"Enter your choice(1-5):\"))\n",
    "if choice==1:\n",
    "    print(\"Addition of two numbers is :\" ,a+b)\n",
    "elif choice==2:\n",
    "    print(\"Subtraction of two numbers is :\",a-b)\n",
    "elif choice==3:\n",
    "    print(\"Multiplication of two numbers is:\",a*b)\n",
    "elif choice==4:\n",
    "    print(\"Division of two numbers is :\",a*b)\n",
    "elif choice==5:\n",
    "    print(\"Square of two numbers is :\",a*b)\n",
    "else:\n",
    "    print(\"Invalid choice\")\n"
   ]
  },
  {
   "cell_type": "code",
   "execution_count": null,
   "id": "7d92da55-e9ea-4d42-9c2e-7dc72f23affe",
   "metadata": {},
   "outputs": [],
   "source": []
  },
  {
   "cell_type": "code",
   "execution_count": null,
   "id": "d95c2f19-95da-4c3d-a038-6f22bd9accae",
   "metadata": {},
   "outputs": [],
   "source": []
  }
 ],
 "metadata": {
  "kernelspec": {
   "display_name": "Python 3 (ipykernel)",
   "language": "python",
   "name": "python3"
  },
  "language_info": {
   "codemirror_mode": {
    "name": "ipython",
    "version": 3
   },
   "file_extension": ".py",
   "mimetype": "text/x-python",
   "name": "python",
   "nbconvert_exporter": "python",
   "pygments_lexer": "ipython3",
   "version": "3.12.4"
  }
 },
 "nbformat": 4,
 "nbformat_minor": 5
}
